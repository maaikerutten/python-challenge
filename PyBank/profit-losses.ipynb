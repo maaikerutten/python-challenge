{
 "cells": [
  {
   "cell_type": "code",
   "execution_count": 31,
   "metadata": {},
   "outputs": [],
   "source": [
    "# Import os mudule and module for reading CSV files \n",
    "import os\n",
    "import csv\n",
    "\n",
    "# Import the Pandas library\n",
    "import pandas as pd"
   ]
  },
  {
   "cell_type": "code",
   "execution_count": 32,
   "metadata": {},
   "outputs": [
    {
     "name": "stdout",
     "output_type": "stream",
     "text": [
      "         Date  Profit/Losses\n",
      "0  2010-01-01         867884\n",
      "1  2010-02-01         984655\n",
      "2  2010-03-01         322013\n",
      "3  2010-04-01         -69417\n",
      "4  2010-05-01         310503\n",
      "5  2010-06-01         522857\n",
      "6  2010-07-01        1033096\n",
      "7  2010-08-01         604885\n",
      "8  2010-09-01        -216386\n",
      "9  2010-10-01         477532\n",
      "10 2010-11-01         893810\n",
      "11 2010-12-01         -80353\n",
      "12 2011-01-01         779806\n",
      "13 2011-02-01        -335203\n",
      "14 2011-03-01         697845\n",
      "15 2011-04-01         793163\n",
      "16 2011-05-01         485070\n",
      "17 2011-06-01         584122\n",
      "18 2011-07-01          62729\n",
      "19 2011-08-01         668179\n",
      "20 2011-09-01         899906\n",
      "21 2011-10-01         834719\n",
      "22 2011-11-01         132003\n",
      "23 2011-12-01         309978\n",
      "24 2012-01-01        -755566\n",
      "25 2012-02-01        1170593\n",
      "26 2012-03-01         252788\n",
      "27 2012-04-01        1151518\n",
      "28 2012-05-01         817256\n",
      "29 2012-06-01         570757\n",
      "..        ...            ...\n",
      "56 2014-09-01        1166643\n",
      "57 2014-10-01         947333\n",
      "58 2014-11-01         578668\n",
      "59 2014-12-01         988505\n",
      "60 2015-01-01        1139715\n",
      "61 2015-02-01        1029471\n",
      "62 2015-03-01         687533\n",
      "63 2015-04-01        -524626\n",
      "64 2015-05-01         158620\n",
      "65 2015-06-01          87795\n",
      "66 2015-07-01         423389\n",
      "67 2015-08-01         840723\n",
      "68 2015-09-01         568529\n",
      "69 2015-10-01         332067\n",
      "70 2015-11-01         989499\n",
      "71 2015-12-01         778237\n",
      "72 2016-01-01         650000\n",
      "73 2016-02-01       -1100387\n",
      "74 2016-03-01        -174946\n",
      "75 2016-04-01         757143\n",
      "76 2016-05-01         445709\n",
      "77 2016-06-01         712961\n",
      "78 2016-07-01       -1163797\n",
      "79 2016-08-01         569899\n",
      "80 2016-09-01         768450\n",
      "81 2016-10-01         102685\n",
      "82 2016-11-01         795914\n",
      "83 2016-12-01          60988\n",
      "84 2017-01-01         138230\n",
      "85 2017-02-01         671099\n",
      "\n",
      "[86 rows x 2 columns]\n"
     ]
    }
   ],
   "source": [
    "# Path to collect data from the Resources folder, read csv and convert dates\n",
    "pro_loss_df = pd.read_csv('C:\\\\Users\\\\maaik\\\\USCLOS201811DATA3\\\\03_python\\\\homework\\\\Instructions\\\\PyBank\\\\Resources\\\\budget_data.csv',parse_dates=['Date'])\n",
    "\n",
    "# print the data frame\n",
    "print(pro_loss_df)"
   ]
  },
  {
   "cell_type": "code",
   "execution_count": 24,
   "metadata": {},
   "outputs": [],
   "source": [
    "# total number of months in dataset\n",
    "months = pro_loss_df['Date'].count()\n"
   ]
  },
  {
   "cell_type": "code",
   "execution_count": 34,
   "metadata": {},
   "outputs": [
    {
     "name": "stdout",
     "output_type": "stream",
     "text": [
      "         Date  Profit/Losses  difference\n",
      "0  2010-01-01         867884         NaN\n",
      "1  2010-02-01         984655    116771.0\n",
      "2  2010-03-01         322013   -662642.0\n",
      "3  2010-04-01         -69417   -391430.0\n",
      "4  2010-05-01         310503    379920.0\n",
      "5  2010-06-01         522857    212354.0\n",
      "6  2010-07-01        1033096    510239.0\n",
      "7  2010-08-01         604885   -428211.0\n",
      "8  2010-09-01        -216386   -821271.0\n",
      "9  2010-10-01         477532    693918.0\n",
      "10 2010-11-01         893810    416278.0\n",
      "11 2010-12-01         -80353   -974163.0\n",
      "12 2011-01-01         779806    860159.0\n",
      "13 2011-02-01        -335203  -1115009.0\n",
      "14 2011-03-01         697845   1033048.0\n",
      "15 2011-04-01         793163     95318.0\n",
      "16 2011-05-01         485070   -308093.0\n",
      "17 2011-06-01         584122     99052.0\n",
      "18 2011-07-01          62729   -521393.0\n",
      "19 2011-08-01         668179    605450.0\n",
      "20 2011-09-01         899906    231727.0\n",
      "21 2011-10-01         834719    -65187.0\n",
      "22 2011-11-01         132003   -702716.0\n",
      "23 2011-12-01         309978    177975.0\n",
      "24 2012-01-01        -755566  -1065544.0\n",
      "25 2012-02-01        1170593   1926159.0\n",
      "26 2012-03-01         252788   -917805.0\n",
      "27 2012-04-01        1151518    898730.0\n",
      "28 2012-05-01         817256   -334262.0\n",
      "29 2012-06-01         570757   -246499.0\n",
      "..        ...            ...         ...\n",
      "56 2014-09-01        1166643    365942.0\n",
      "57 2014-10-01         947333   -219310.0\n",
      "58 2014-11-01         578668   -368665.0\n",
      "59 2014-12-01         988505    409837.0\n",
      "60 2015-01-01        1139715    151210.0\n",
      "61 2015-02-01        1029471   -110244.0\n",
      "62 2015-03-01         687533   -341938.0\n",
      "63 2015-04-01        -524626  -1212159.0\n",
      "64 2015-05-01         158620    683246.0\n",
      "65 2015-06-01          87795    -70825.0\n",
      "66 2015-07-01         423389    335594.0\n",
      "67 2015-08-01         840723    417334.0\n",
      "68 2015-09-01         568529   -272194.0\n",
      "69 2015-10-01         332067   -236462.0\n",
      "70 2015-11-01         989499    657432.0\n",
      "71 2015-12-01         778237   -211262.0\n",
      "72 2016-01-01         650000   -128237.0\n",
      "73 2016-02-01       -1100387  -1750387.0\n",
      "74 2016-03-01        -174946    925441.0\n",
      "75 2016-04-01         757143    932089.0\n",
      "76 2016-05-01         445709   -311434.0\n",
      "77 2016-06-01         712961    267252.0\n",
      "78 2016-07-01       -1163797  -1876758.0\n",
      "79 2016-08-01         569899   1733696.0\n",
      "80 2016-09-01         768450    198551.0\n",
      "81 2016-10-01         102685   -665765.0\n",
      "82 2016-11-01         795914    693229.0\n",
      "83 2016-12-01          60988   -734926.0\n",
      "84 2017-01-01         138230     77242.0\n",
      "85 2017-02-01         671099    532869.0\n",
      "\n",
      "[86 rows x 3 columns]\n"
     ]
    }
   ],
   "source": [
    "# create new column with difference in profit/losses compared to previous month\n",
    "pro_loss_df['difference'] = pro_loss_df ['Profit/Losses'] - pro_loss_df['Profit/Losses'].shift(1)\n",
    "\n",
    "print(pro_loss_df)"
   ]
  },
  {
   "cell_type": "code",
   "execution_count": 37,
   "metadata": {},
   "outputs": [],
   "source": [
    "# define average change, greatest increase and greatest decrease\n",
    "average = pro_loss_df['difference'].mean()\n",
    "maximum = pro_loss_df['difference'].max()\n",
    "minimum = pro_loss_df['difference'].min()\n"
   ]
  },
  {
   "cell_type": "code",
   "execution_count": 38,
   "metadata": {},
   "outputs": [],
   "source": [
    "# Total net amount of profit/losses\n",
    "Total = str(pro_loss_df['Profit/Losses'].sum(axis=0))"
   ]
  },
  {
   "cell_type": "code",
   "execution_count": 41,
   "metadata": {},
   "outputs": [
    {
     "name": "stdout",
     "output_type": "stream",
     "text": [
      "Feb-2012\n",
      "Sep-2013\n"
     ]
    }
   ],
   "source": [
    "# corresponding month for greatest increase and decrease in correct format\n",
    "Increase_month = pro_loss_df.iloc[pro_loss_df['difference'].idxmax(),0].strftime('%b-%Y')\n",
    "Decrease_month = pro_loss_df.iloc[pro_loss_df['difference'].idxmin(),0].strftime('%b-%Y')\n",
    "\n",
    "print(Increase_month)\n",
    "print(Decrease_month)\n"
   ]
  },
  {
   "cell_type": "code",
   "execution_count": 63,
   "metadata": {},
   "outputs": [
    {
     "name": "stdout",
     "output_type": "stream",
     "text": [
      "Financial_Analysis \n",
      "-------------------------------\n",
      "Total Months:86\n",
      "Total: $ 38382578\n",
      "Average Change: $ -2315.12\n",
      "Greatest Increase in Profits: Feb-2012 ($ 1926159)\n",
      "Greatest Decrease in Profits: Sep-2013 ($ -2196167)\n"
     ]
    }
   ],
   "source": [
    "# results, every record on new line, rounded 2 decimals for average and 0 decimals for max in min\n",
    "results = (\"Financial_Analysis \\n\"\n",
    "+ \"-------------------------------\\n\"\n",
    "+ \"Total Months:\" + str(months) + \"\\n\"\n",
    "+ \"Total: $ \" + Total + \"\\n\"\n",
    "+ \"Average Change: $ \" + \"%.2f\" %average +\"\\n\"\n",
    "+ \"Greatest Increase in Profits: \" + Increase_month + \" ($ %.0f\" %maximum + \")\\n\"\n",
    "+ \"Greatest Decrease in Profits: \" + Decrease_month + \" ($ %.0f\" %minimum + \")\")\n",
    "           \n",
    "print(results)\n"
   ]
  },
  {
   "cell_type": "code",
   "execution_count": 65,
   "metadata": {},
   "outputs": [],
   "source": [
    "# export results to text file and close file\n",
    "text_file = open (\"Financial_Analysis_PyBank.txt\", \"w\")\n",
    "text_file.write(results)\n",
    "text_file.close()"
   ]
  },
  {
   "cell_type": "code",
   "execution_count": null,
   "metadata": {},
   "outputs": [],
   "source": []
  },
  {
   "cell_type": "code",
   "execution_count": null,
   "metadata": {},
   "outputs": [],
   "source": []
  }
 ],
 "metadata": {
  "kernelspec": {
   "display_name": "Python 3",
   "language": "python",
   "name": "python3"
  },
  "language_info": {
   "codemirror_mode": {
    "name": "ipython",
    "version": 3
   },
   "file_extension": ".py",
   "mimetype": "text/x-python",
   "name": "python",
   "nbconvert_exporter": "python",
   "pygments_lexer": "ipython3",
   "version": "3.6.6"
  }
 },
 "nbformat": 4,
 "nbformat_minor": 2
}
