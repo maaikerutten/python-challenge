{
 "cells": [
  {
   "cell_type": "code",
   "execution_count": 1,
   "metadata": {},
   "outputs": [],
   "source": [
    "# Import os mudule and module for reading CSV files \n",
    "import os\n",
    "import csv\n",
    "\n",
    "# Import the Pandas library\n",
    "import pandas as pd"
   ]
  },
  {
   "cell_type": "code",
   "execution_count": 2,
   "metadata": {},
   "outputs": [
    {
     "data": {
      "text/html": [
       "<div>\n",
       "<style scoped>\n",
       "    .dataframe tbody tr th:only-of-type {\n",
       "        vertical-align: middle;\n",
       "    }\n",
       "\n",
       "    .dataframe tbody tr th {\n",
       "        vertical-align: top;\n",
       "    }\n",
       "\n",
       "    .dataframe thead th {\n",
       "        text-align: right;\n",
       "    }\n",
       "</style>\n",
       "<table border=\"1\" class=\"dataframe\">\n",
       "  <thead>\n",
       "    <tr style=\"text-align: right;\">\n",
       "      <th></th>\n",
       "      <th>Voter ID</th>\n",
       "      <th>County</th>\n",
       "      <th>Candidate</th>\n",
       "    </tr>\n",
       "  </thead>\n",
       "  <tbody>\n",
       "    <tr>\n",
       "      <th>0</th>\n",
       "      <td>12864552</td>\n",
       "      <td>Marsh</td>\n",
       "      <td>Khan</td>\n",
       "    </tr>\n",
       "    <tr>\n",
       "      <th>1</th>\n",
       "      <td>17444633</td>\n",
       "      <td>Marsh</td>\n",
       "      <td>Correy</td>\n",
       "    </tr>\n",
       "    <tr>\n",
       "      <th>2</th>\n",
       "      <td>19330107</td>\n",
       "      <td>Marsh</td>\n",
       "      <td>Khan</td>\n",
       "    </tr>\n",
       "    <tr>\n",
       "      <th>3</th>\n",
       "      <td>19865775</td>\n",
       "      <td>Queen</td>\n",
       "      <td>Khan</td>\n",
       "    </tr>\n",
       "    <tr>\n",
       "      <th>4</th>\n",
       "      <td>11927875</td>\n",
       "      <td>Marsh</td>\n",
       "      <td>Khan</td>\n",
       "    </tr>\n",
       "    <tr>\n",
       "      <th>5</th>\n",
       "      <td>19014606</td>\n",
       "      <td>Marsh</td>\n",
       "      <td>Li</td>\n",
       "    </tr>\n",
       "    <tr>\n",
       "      <th>6</th>\n",
       "      <td>17775191</td>\n",
       "      <td>Queen</td>\n",
       "      <td>Correy</td>\n",
       "    </tr>\n",
       "    <tr>\n",
       "      <th>7</th>\n",
       "      <td>14003692</td>\n",
       "      <td>Marsh</td>\n",
       "      <td>Khan</td>\n",
       "    </tr>\n",
       "    <tr>\n",
       "      <th>8</th>\n",
       "      <td>14255761</td>\n",
       "      <td>Marsh</td>\n",
       "      <td>Khan</td>\n",
       "    </tr>\n",
       "    <tr>\n",
       "      <th>9</th>\n",
       "      <td>13870173</td>\n",
       "      <td>Marsh</td>\n",
       "      <td>Correy</td>\n",
       "    </tr>\n",
       "  </tbody>\n",
       "</table>\n",
       "</div>"
      ],
      "text/plain": [
       "   Voter ID County Candidate\n",
       "0  12864552  Marsh      Khan\n",
       "1  17444633  Marsh    Correy\n",
       "2  19330107  Marsh      Khan\n",
       "3  19865775  Queen      Khan\n",
       "4  11927875  Marsh      Khan\n",
       "5  19014606  Marsh        Li\n",
       "6  17775191  Queen    Correy\n",
       "7  14003692  Marsh      Khan\n",
       "8  14255761  Marsh      Khan\n",
       "9  13870173  Marsh    Correy"
      ]
     },
     "execution_count": 2,
     "metadata": {},
     "output_type": "execute_result"
    }
   ],
   "source": [
    "# Path to collect data from the Resources folder and read csv\n",
    "election_data_df = pd.read_csv('C:\\\\Users\\\\maaik\\\\USCLOS201811DATA3\\\\03_python\\\\homework\\\\Instructions\\\\PyPoll\\\\Resources\\\\election_data.csv')\n",
    "\n",
    "# print the head of the data frame\n",
    "election_data_df.head(10)\n"
   ]
  },
  {
   "cell_type": "code",
   "execution_count": 9,
   "metadata": {},
   "outputs": [
    {
     "name": "stdout",
     "output_type": "stream",
     "text": [
      "3521001\n"
     ]
    }
   ],
   "source": [
    "# total number of votes\n",
    "total_votes = election_data_df['Voter ID'].count()\n",
    "\n",
    "print (total_votes)"
   ]
  },
  {
   "cell_type": "code",
   "execution_count": 3,
   "metadata": {},
   "outputs": [
    {
     "name": "stdout",
     "output_type": "stream",
     "text": [
      "['Khan' 'Correy' 'Li' \"O'Tooley\"]\n"
     ]
    }
   ],
   "source": [
    "# list of candidates \n",
    "list_candidates = election_data_df.Candidate.unique()\n",
    "\n",
    "print(list_candidates)"
   ]
  },
  {
   "cell_type": "code",
   "execution_count": 16,
   "metadata": {},
   "outputs": [
    {
     "name": "stdout",
     "output_type": "stream",
     "text": [
      "            counts  perc_candidate\n",
      "Candidate                         \n",
      "Khan       2218231            0.63\n",
      "Correy      704200            0.20\n",
      "Li          492940            0.14\n",
      "O'Tooley    105630            0.03\n"
     ]
    }
   ],
   "source": [
    "# % of votes per candidate & total number of votes per candidate\n",
    "\n",
    "votes_candidate = election_data_df.groupby('Candidate').size().to_frame('counts')\n",
    "votes_candidate['perc_candidate']= votes_candidate['counts']/votes_candidate['counts'].sum()\n",
    "votes_candidate.sort_values('perc_candidate', inplace=True, ascending=False)\n",
    "print(votes_candidate)\n"
   ]
  },
  {
   "cell_type": "code",
   "execution_count": null,
   "metadata": {},
   "outputs": [],
   "source": []
  },
  {
   "cell_type": "code",
   "execution_count": 5,
   "metadata": {},
   "outputs": [
    {
     "name": "stdout",
     "output_type": "stream",
     "text": [
      "Khan\n"
     ]
    }
   ],
   "source": [
    "# election winner via popular vote\n",
    "winner = election_data_df['Candidate'].value_counts().idxmax()\n",
    "\n",
    "print(winner)"
   ]
  },
  {
   "cell_type": "code",
   "execution_count": 18,
   "metadata": {},
   "outputs": [
    {
     "name": "stdout",
     "output_type": "stream",
     "text": [
      "            counts perc_candidate\n",
      "Candidate                        \n",
      "Khan       2218231            63%\n",
      "Correy      704200            20%\n",
      "Li          492940            14%\n",
      "O'Tooley    105630             3%\n"
     ]
    }
   ],
   "source": [
    "# add % and zero decimals\n",
    "output = votes_candidate.to_string(formatters={\"perc_candidate\":'{:,.0%}'.format})\n",
    "print (output)"
   ]
  },
  {
   "cell_type": "code",
   "execution_count": 19,
   "metadata": {},
   "outputs": [
    {
     "name": "stdout",
     "output_type": "stream",
     "text": [
      "Election Results \n",
      "-------------------------------\n",
      "Total Votes: 3521001\n",
      "-------------------------------\n",
      "            counts perc_candidate\n",
      "Candidate                        \n",
      "Khan       2218231            63%\n",
      "Correy      704200            20%\n",
      "Li          492940            14%\n",
      "O'Tooley    105630             3%\n",
      "-------------------------------\n",
      "Winner: Khan\n",
      "--------------------------------\n",
      "\n"
     ]
    }
   ],
   "source": [
    "# results, every record on new line\n",
    "results = (\"Election Results \\n\"\n",
    "+ \"-------------------------------\\n\"\n",
    "+ \"Total Votes: \" + str(total_votes) + \"\\n\" \n",
    "+ \"-------------------------------\\n\"     \n",
    "+ output + \"\\n\"            \n",
    "+ \"-------------------------------\\n\"\n",
    "+ \"Winner: \" + winner + \"\\n\"\n",
    "+ \"--------------------------------\\n\") \n",
    "\n",
    "print(results)"
   ]
  },
  {
   "cell_type": "code",
   "execution_count": 20,
   "metadata": {},
   "outputs": [],
   "source": [
    "# export results to text file and close file\n",
    "text_file = open (\"Election_Results_PyPoll.txt\", \"w\")\n",
    "text_file.write(results)\n",
    "text_file.close()"
   ]
  },
  {
   "cell_type": "code",
   "execution_count": null,
   "metadata": {},
   "outputs": [],
   "source": []
  }
 ],
 "metadata": {
  "kernelspec": {
   "display_name": "Python 3",
   "language": "python",
   "name": "python3"
  },
  "language_info": {
   "codemirror_mode": {
    "name": "ipython",
    "version": 3
   },
   "file_extension": ".py",
   "mimetype": "text/x-python",
   "name": "python",
   "nbconvert_exporter": "python",
   "pygments_lexer": "ipython3",
   "version": "3.7.0"
  }
 },
 "nbformat": 4,
 "nbformat_minor": 2
}
